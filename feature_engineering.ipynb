{
 "cells": [
  {
   "cell_type": "code",
   "execution_count": null,
   "metadata": {
    "_cell_guid": "b1076dfc-b9ad-4769-8c92-a6c4dae69d19",
    "_uuid": "8f2839f25d086af736a60e9eeb907d3b93b6e0e5",
    "collapsed": true
   },
   "outputs": [],
   "source": [
    "###################################\n",
    "#### Author : Snehal Bhole (snehalb@uw.edu)\n",
    "#### Project : New york taxi fare calculator\n",
    "#### Module : Feature Engineering\n",
    "###################################\n",
    "\n",
    "import pandas as pd\n",
    "import matplotlib.pyplot as plt\n",
    "import seaborn as sns\n",
    "import numpy as np\n",
    "import warnings\n",
    "from datetime import datetime\n",
    "import calendar\n",
    "from math import sin, cos, sqrt, atan2, radians,asin\n",
    "import folium\n",
    "from folium import FeatureGroup, LayerControl, Map, Marker\n",
    "from folium.plugins import HeatMap\n",
    "from folium.plugins import TimestampedGeoJson\n",
    "from folium.plugins import MarkerCluster\n",
    "from geopy.distance import great_circle\n",
    "import matplotlib.dates as mdates\n",
    "import matplotlib as mpl\n",
    "from datetime import timedelta\n",
    "import datetime as dt\n",
    "warnings.filterwarnings('ignore')\n",
    "pd.set_option('display.max_colwidth', -1)\n",
    "plt.style.use('fivethirtyeight')\n",
    "import folium\n",
    "from sklearn.cluster import KMeans\n",
    "from sklearn import preprocessing\n",
    "from sklearn.model_selection import train_test_split\n",
    "from sklearn.preprocessing import Imputer\n",
    "from sklearn import linear_model\n",
    "from sklearn.metrics import mean_squared_error\n",
    "from sklearn.ensemble import RandomForestRegressor\n",
    "import pickle\n",
    "from geopy.distance import geodesic"
   ]
  },
  {
   "cell_type": "code",
   "execution_count": null,
   "metadata": {
    "_cell_guid": "79c7e3d0-c299-4dcb-8224-4455121ee9b0",
    "_uuid": "d629ff2d2480ee46fbb7e2d37f6b5fab8052498a",
    "collapsed": true
   },
   "outputs": [],
   "source": [
    "##the training data has 55M rows. In this kernel, we shall only read in 6M rows\n",
    "train=pd.read_csv(\"../input/train.csv\",nrows=6000000)\n",
    "train.head()"
   ]
  },
  {
   "cell_type": "code",
   "execution_count": null,
   "metadata": {
    "_uuid": "65ac054af305df4e22a12d362044c8898987d469",
    "collapsed": true
   },
   "outputs": [],
   "source": [
    "train.info()"
   ]
  },
  {
   "cell_type": "markdown",
   "metadata": {
    "_uuid": "e1e6f50660c97c20ad8f7db2891e4a5afcb96bb6"
   },
   "source": [
    "### Convert pickup_datetime from Object to Datetime object"
   ]
  },
  {
   "cell_type": "code",
   "execution_count": null,
   "metadata": {
    "_uuid": "ed0fa345b88b75938c3dd45b13ae5d56f9197f7a",
    "collapsed": true
   },
   "outputs": [],
   "source": [
    "train['pickup_datetime']=pd.to_datetime(train['pickup_datetime'],format='%Y-%m-%d %H:%M:%S UTC')\n",
    "train.head()"
   ]
  },
  {
   "cell_type": "markdown",
   "metadata": {
    "_uuid": "02b9a3b16cb49c2b4ae2ea6b404239e4df768bef"
   },
   "source": [
    "### Create datetime features based on pickup_datetime"
   ]
  },
  {
   "cell_type": "code",
   "execution_count": null,
   "metadata": {
    "_uuid": "ba414bb4f2cc2c5fecf78ccce527c241ba2bbe82",
    "collapsed": true
   },
   "outputs": [],
   "source": [
    "train['pickup_date']= train['pickup_datetime'].dt.date\n",
    "train['pickup_day']=train['pickup_datetime'].apply(lambda x:x.day)\n",
    "train['pickup_hour']=train['pickup_datetime'].apply(lambda x:x.hour)\n",
    "train['pickup_day_of_week']=train['pickup_datetime'].apply(lambda x:calendar.day_name[x.weekday()])\n",
    "train['pickup_month']=train['pickup_datetime'].apply(lambda x:x.month)\n",
    "train['pickup_year']=train['pickup_datetime'].apply(lambda x:x.year)"
   ]
  },
  {
   "cell_type": "markdown",
   "metadata": {
    "_uuid": "6b43e3d03a48da1af164ece6845f296af82c62a6"
   },
   "source": [
    "### Check for Missing Values "
   ]
  },
  {
   "cell_type": "code",
   "execution_count": null,
   "metadata": {
    "_uuid": "8c934516e5f39f409313b73e1173487214e541e6",
    "collapsed": true
   },
   "outputs": [],
   "source": [
    "train[pd.isnull(train)].sum()"
   ]
  },
  {
   "cell_type": "markdown",
   "metadata": {
    "_uuid": "6f4e6a5f8b64737112760d88c458073c24f42363"
   },
   "source": [
    "There are no missing values in the data."
   ]
  },
  {
   "cell_type": "markdown",
   "metadata": {
    "_uuid": "e2d12d2f34d57f2124229af24bc280df4248debb"
   },
   "source": [
    "### Exploratory Data Analysis"
   ]
  },
  {
   "cell_type": "markdown",
   "metadata": {
    "_uuid": "3cd3158d1d3c9fd068df2d7fa5059f9cd1b921c7"
   },
   "source": [
    "** Distribution of Trip Fare**"
   ]
  },
  {
   "cell_type": "code",
   "execution_count": null,
   "metadata": {
    "_uuid": "487d8454ed8ced36220e5e1731139c94b9c40eda",
    "collapsed": true
   },
   "outputs": [],
   "source": [
    "plt.figure(figsize=(8,5))\n",
    "sns.kdeplot(train['fare_amount']).set_title(\"Distribution of Trip Fare\")"
   ]
  },
  {
   "cell_type": "markdown",
   "metadata": {
    "_uuid": "fac3f9e1e66fb110fafb6e774c488c405a6a5797"
   },
   "source": [
    "There are some negative fare amount in the data and also it is skewed. Let us have a look at these data points"
   ]
  },
  {
   "cell_type": "code",
   "execution_count": null,
   "metadata": {
    "_uuid": "2af2e8b8bb07ab05127574ef6d702bfae360aca4",
    "collapsed": true
   },
   "outputs": [],
   "source": [
    "train.loc[train['fare_amount']<0].shape"
   ]
  },
  {
   "cell_type": "markdown",
   "metadata": {
    "_uuid": "7530664a9fc03fd8fa60d4ce6e37d0229b758dcd"
   },
   "source": [
    "There are 262 records with negative fare. We will remove these records from the data"
   ]
  },
  {
   "cell_type": "code",
   "execution_count": null,
   "metadata": {
    "_uuid": "0a110345fe881a57e7751d6b8ec4424a57458df5",
    "collapsed": true
   },
   "outputs": [],
   "source": [
    "train=train.loc[train['fare_amount']>=0]\n",
    "train.shape"
   ]
  },
  {
   "cell_type": "markdown",
   "metadata": {
    "_uuid": "056325f408635a09bd0b30a3b25bdb5fe3bf1177"
   },
   "source": [
    "Since we saw above that fare amount is highly skewed,let us take log transformation of the fare amount and plot the distribution"
   ]
  },
  {
   "cell_type": "code",
   "execution_count": null,
   "metadata": {
    "_uuid": "686c29eeb225283e0356cb659400df9d34152bf1",
    "collapsed": true
   },
   "outputs": [],
   "source": [
    "plt.figure(figsize=(8,5))\n",
    "sns.kdeplot(np.log(train['fare_amount'].values)).set_title(\"Distribution of fare amount (log scale)\")"
   ]
  },
  {
   "cell_type": "markdown",
   "metadata": {
    "_uuid": "a8292acc90eee7a0ac2498be127f2b6c3aab5d66"
   },
   "source": [
    "1. Most fares are between 2.7   and   54 dollars .Median fare is around $7"
   ]
  },
  {
   "cell_type": "markdown",
   "metadata": {
    "_uuid": "565e713132fb7691cba556d73aa438a72c77ead1"
   },
   "source": [
    "### Let us look at Geographical Features and their relationship with Fare Amount\n",
    "\n",
    "**Distribution of Pickup and Dropoff Lat Lng**"
   ]
  },
  {
   "cell_type": "code",
   "execution_count": null,
   "metadata": {
    "_uuid": "a740507c61a9ab3660b10e786fb82b49034501dc",
    "collapsed": true
   },
   "outputs": [],
   "source": [
    "print(\"Range of Pickup Latitude is \", (min(train['pickup_latitude']),max(train['pickup_latitude'])))"
   ]
  },
  {
   "cell_type": "code",
   "execution_count": null,
   "metadata": {
    "_uuid": "18e7b4adf11b10af1db04ecb129aa2df983a4bb8",
    "collapsed": true
   },
   "outputs": [],
   "source": [
    "print(\"Range of Dropoff Latitude is \", (min(train['dropoff_latitude']),max(train['dropoff_longitude'])))"
   ]
  },
  {
   "cell_type": "markdown",
   "metadata": {
    "_uuid": "49bf4ecbbf9ded9a6012cdee23aabbcaaa81ccb5"
   },
   "source": [
    "The data is for Taxi Rides in Newyork, whose center lat, lng is at ((40,-74).The range of dropoff and pickup latitudes indicates lot of outlier locations in the train data. "
   ]
  },
  {
   "cell_type": "code",
   "execution_count": null,
   "metadata": {
    "_uuid": "25520beca9d5a7309b0d67b90438a26bdf0b45c2",
    "collapsed": true
   },
   "outputs": [],
   "source": [
    "#Before we  ahead and identify outlier location, let us read the test data and see what the boundaries are.\n",
    "test =  pd.read_csv('../input/test.csv')\n",
    "print(\"Longitude Boundary in test data\")\n",
    "min(test.pickup_longitude.min(), test.dropoff_longitude.min()),max(test.pickup_longitude.max(), test.dropoff_longitude.max())"
   ]
  },
  {
   "cell_type": "code",
   "execution_count": null,
   "metadata": {
    "_uuid": "3bd5be498a5a2bcabc56873606157940f2c2f82e",
    "collapsed": true
   },
   "outputs": [],
   "source": [
    "print(\"Latitude Boundary in test data\")\n",
    "min(test.pickup_latitude.min(), test.pickup_latitude.min()),max(test.pickup_latitude.max(), test.pickup_latitude.max())"
   ]
  },
  {
   "cell_type": "markdown",
   "metadata": {
    "_uuid": "27633a990438f6f867fb86b253ac5f09931cb34c"
   },
   "source": [
    " Let us set the boundary for the train data also based on test data lat lng boundaries.We will mark the outlier locations as 1 and remove them for further analysi"
   ]
  },
  {
   "cell_type": "code",
   "execution_count": null,
   "metadata": {
    "_uuid": "c8e972294d153c1c73c09a773af13f914b999081",
    "collapsed": true
   },
   "outputs": [],
   "source": [
    "boundary={'min_lng':-74.263242,\n",
    "              'min_lat':40.573143,\n",
    "              'max_lng':-72.986532, \n",
    "              'max_lat':41.709555}\n",
    "\n",
    "\n"
   ]
  },
  {
   "cell_type": "markdown",
   "metadata": {
    "_uuid": "e22fc3223fb0b0741f7894044fbf1b820ecc40f1"
   },
   "source": [
    "There are a lot of cases where lat lng is zero. How many such cases are there in the data?"
   ]
  },
  {
   "cell_type": "code",
   "execution_count": null,
   "metadata": {
    "_uuid": "68204391bbfea2b2ff6b969c14ab2836db760519",
    "collapsed": true
   },
   "outputs": [],
   "source": [
    "train[(train.pickup_latitude==0) | (train.pickup_longitude)==0 | (train.dropoff_latitude==0)|(train.dropoff_longitude==0)].shape"
   ]
  },
  {
   "cell_type": "markdown",
   "metadata": {
    "_uuid": "886436156b25d86e724ed0f34d960edee7357c28"
   },
   "source": [
    " 114K records  have either pickup/dropoff lat/lng as 0.0 . There is a high chance this is present in test data as well. So, let us create a field called is_outlier_loc and mark as 1 in case it is an outlier. Any point beyond NYC border is an outlier.  We will also drop all rows where the pickup or dropoff location is an outlier\n"
   ]
  },
  {
   "cell_type": "code",
   "execution_count": null,
   "metadata": {
    "_uuid": "f6b1ebbbf5c4dfea5489c785c824ec101f2f641e",
    "collapsed": true
   },
   "outputs": [],
   "source": [
    "train.loc[~((train.pickup_longitude >= boundary['min_lng'] ) & (train.pickup_longitude <= boundary['max_lng']) &\n",
    "            (train.pickup_latitude >= boundary['min_lat']) & (train.pickup_latitude <= boundary['max_lat']) &\n",
    "            (train.dropoff_longitude >= boundary['min_lng']) & (train.dropoff_longitude <= boundary['max_lng']) &\n",
    "            (train.dropoff_latitude >=boundary['min_lat']) & (train.dropoff_latitude <= boundary['max_lat'])),'is_outlier_loc']=1\n",
    "train.loc[((train.pickup_longitude >= boundary['min_lng'] ) & (train.pickup_longitude <= boundary['max_lng']) &\n",
    "            (train.pickup_latitude >= boundary['min_lat']) & (train.pickup_latitude <= boundary['max_lat']) &\n",
    "            (train.dropoff_longitude >= boundary['min_lng']) & (train.dropoff_longitude <= boundary['max_lng']) &\n",
    "            (train.dropoff_latitude >=boundary['min_lat']) & (train.dropoff_latitude <= boundary['max_lat'])),'is_outlier_loc']=0\n",
    "\n",
    "print(\"Outlier vs Non Outlier Counts\")\n",
    "print(train['is_outlier_loc'].value_counts())\n",
    "\n",
    "# Let us drop rows, where location is outlier\n",
    "train=train.loc[train['is_outlier_loc']==0]\n",
    "train.drop(['is_outlier_loc'],axis=1,inplace=True)"
   ]
  },
  {
   "cell_type": "markdown",
   "metadata": {
    "_uuid": "af7c736d06d56692b1a14279d973bc4ff5cb1163",
    "collapsed": true
   },
   "source": [
    "128K records are outliers"
   ]
  },
  {
   "cell_type": "markdown",
   "metadata": {
    "_uuid": "733c13875ad04c65662e3387e0c6f21416db5914"
   },
   "source": [
    "### Plot Heatmap of Pickups and Dropoffs within NYC"
   ]
  },
  {
   "cell_type": "code",
   "execution_count": null,
   "metadata": {
    "_uuid": "ae6307a275483a67b59a589108716eeeac9caf49",
    "collapsed": true
   },
   "outputs": [],
   "source": [
    "city_long_border = (-74.03, -73.75)\n",
    "city_lat_border = (40.63, 40.85)\n",
    "\n",
    "train.plot(kind='scatter', x='dropoff_longitude', y='dropoff_latitude',\n",
    "                color='green', \n",
    "                s=.02, alpha=.6)\n",
    "plt.title(\"Dropoffs\")\n",
    "\n",
    "plt.ylim(city_lat_border)\n",
    "plt.xlim(city_long_border)"
   ]
  },
  {
   "cell_type": "code",
   "execution_count": null,
   "metadata": {
    "_uuid": "c7989eb34515882cc59692cddeb235da5b4df0ac",
    "collapsed": true
   },
   "outputs": [],
   "source": [
    "\n",
    "train.plot(kind='scatter', x='pickup_longitude', y='pickup_latitude',\n",
    "                color='blue', \n",
    "                s=.02, alpha=.6)\n",
    "plt.title(\"Pickups\")\n",
    "\n",
    "plt.ylim(city_lat_border)\n",
    "plt.xlim(city_long_border)"
   ]
  },
  {
   "cell_type": "markdown",
   "metadata": {
    "_uuid": "a091539d9f4a66ec6e3105b723d4e72dbe13cd50"
   },
   "source": [
    "Apart from Manhattan, we can see heavy pickups and dropoffs near JFK and La Guardia Airport. "
   ]
  },
  {
   "cell_type": "markdown",
   "metadata": {
    "_uuid": "1557f0e1c8e640f06ef481713564dc5b3d343794",
    "collapsed": true
   },
   "source": [
    "**Heatmap based on fare amount across NYC**"
   ]
  },
  {
   "cell_type": "code",
   "execution_count": null,
   "metadata": {
    "_uuid": "1b3f6f3fb3cc2f17790ebe021d73cfdbe5d00290",
    "collapsed": true
   },
   "outputs": [],
   "source": [
    "# Let us round pickup and dropoff lat lng to 3 decimal places\n",
    "train['pickup_latitude_round3']=train['pickup_latitude'].apply(lambda x:round(x,3))\n",
    "train['pickup_longitude_round3']=train['pickup_longitude'].apply(lambda x:round(x,3))\n",
    "train['dropoff_latitude_round3']=train['dropoff_latitude'].apply(lambda x:round(x,3))\n",
    "train['dropoff_longitude_round3']=train['dropoff_longitude'].apply(lambda x:round(x,3))\n"
   ]
  },
  {
   "cell_type": "code",
   "execution_count": null,
   "metadata": {
    "_uuid": "5f73e7a7a4036f5286aa71c5374fb0d077e614a9",
    "collapsed": true
   },
   "outputs": [],
   "source": [
    "pickup_fare_amount=train.groupby(['pickup_latitude_round3','pickup_longitude_round3'])['fare_amount'].mean().reset_index().rename(columns={'fare_amount':'avg_fare'})\n",
    "pickup_fare_amount.head()"
   ]
  },
  {
   "cell_type": "markdown",
   "metadata": {
    "_uuid": "edc4cb82a0e4567e23cec3696773e250bd4cc306"
   },
   "source": [
    "## In the scatter plot, we saw the high density of pickups and dropoffs from and to JFK and La Guardia Airport\n",
    "Let us look at over time how fares are from La Guardia and JFK"
   ]
  },
  {
   "cell_type": "code",
   "execution_count": null,
   "metadata": {
    "_uuid": "8ab9fcc6394e03c7eb7a5b19d6940a13161c440c",
    "collapsed": true
   },
   "outputs": [],
   "source": [
    "JFK={'min_lng':-73.8352,\n",
    "     'min_lat':40.6195,\n",
    "     'max_lng':-73.7401, \n",
    "     'max_lat':40.6659}\n",
    "JFK_center=[40.6437,-73.7900]\n",
    "# Get all pickups to JFK\n",
    "JFK_data=train.loc[(train.pickup_latitude>=JFK['min_lat']) & (train.pickup_latitude<=JFK['max_lat'])]\n",
    "JFK_data=JFK_data.loc[(train.pickup_longitude>=JFK['min_lng']) & (train.pickup_longitude<=JFK['max_lng'])]\n",
    "\n",
    "print(\"Number of Trips with Pickups from JFK\",JFK_data.shape[0])\n",
    "\n",
    "JFK_dropoff=train.loc[(train.dropoff_latitude>=JFK['min_lat']) & (train.dropoff_latitude<=JFK['max_lat'])]\n",
    "JFK_dropoff=JFK_dropoff.loc[(train.dropoff_longitude>=JFK['min_lng']) & (train.dropoff_longitude<=JFK['max_lng'])]\n",
    "\n",
    "print(\"Number of Trips with Dropoffs to JFK\",JFK_dropoff.shape[0])\n",
    "\n",
    "'''\n",
    "# Create a folium map with JFK as the center \n",
    "m=folium.Map(location =JFK_center,zoom_start = 10,)\n",
    "folium.Marker(location=JFK_center, popup='JFK Airport',icon=folium.Icon(color='black')).add_to(m)\n",
    "\n",
    "#mc = MarkerCluster().add_to(m)\n",
    "#Add markers in blue for each pickup location and line between JFK and Pickup location over time. The thickness of line indicates the fare_amount\n",
    "\n",
    "for index,row in JFK_data.iterrows():\n",
    "    folium.Marker([row['dropoff_latitude'],row['dropoff_longitude']]).add_to(m)\n",
    "'''\n",
    "\n",
    "    "
   ]
  },
  {
   "cell_type": "markdown",
   "metadata": {
    "_uuid": "8a5b648382b4dd32756aa727ca10abec372724dd",
    "collapsed": true
   },
   "source": [
    "**What is the Average Fare amount of trips from JFK**"
   ]
  },
  {
   "cell_type": "code",
   "execution_count": null,
   "metadata": {
    "_uuid": "d6e63b9f35f46d8c7fab4082bcf36b526eec0c3d",
    "collapsed": true
   },
   "outputs": [],
   "source": [
    "plt.figure(figsize=(8,5))\n",
    "sns.kdeplot(np.log(JFK_data['fare_amount'].values),label='JFK Pickups')\n",
    "#sns.kdeplot(np.log(JFK_dropoff['fare_amount'].values),label='JFK Dropoff')\n",
    "sns.kdeplot(np.log(train['fare_amount'].values),label='All Trips in Train data')\n",
    "plt.title(\"Fare Amount Distribution\")"
   ]
  },
  {
   "cell_type": "markdown",
   "metadata": {
    "_uuid": "d2896892a40c422e5b780213a60983d70ea6f09b"
   },
   "source": [
    "As we can see, the fare amount is much higher when pickup is from JFK."
   ]
  },
  {
   "cell_type": "code",
   "execution_count": null,
   "metadata": {
    "_uuid": "4f645d853452781185f75e3a4a4dd439550f9e46",
    "collapsed": true
   },
   "outputs": [],
   "source": [
    "plt.figure(figsize=(8,5))\n",
    "sns.kdeplot(np.log(JFK_dropoff['fare_amount'].values),label='JFK')\n",
    "sns.kdeplot(np.log(train['fare_amount'].values),label='train')\n",
    "plt.title(\"Dropoffs vs Fare Amount\")"
   ]
  },
  {
   "cell_type": "code",
   "execution_count": null,
   "metadata": {
    "_uuid": "c94280f7535ab0564abca297431a6ef34ca5a400",
    "collapsed": true
   },
   "outputs": [],
   "source": [
    "del JFK_data\n",
    "del JFK\n",
    "del JFK_dropoff\n"
   ]
  },
  {
   "cell_type": "markdown",
   "metadata": {
    "_uuid": "e57a91ecdca1c8f686c8ffefa11faf4b0433abc7"
   },
   "source": [
    " Distribution of fare amount for  both pickup and dropoff to JFK is similar"
   ]
  },
  {
   "cell_type": "code",
   "execution_count": null,
   "metadata": {
    "_uuid": "3e2dc30df82c2a759dd916508c58d4dd37ddd95b",
    "collapsed": true
   },
   "outputs": [],
   "source": [
    "## Based on the above, let us create a function to see whether pickup or dropoff is an Airport. \n",
    "\n",
    "'''\n",
    "def isAirport(latitude,longitude,airport_name='JFK'):\n",
    "    if airport_name=='JFK':\n",
    "        boundary={'min_lng':-73.8352,\n",
    "     'min_lat':40.6195,\n",
    "     'max_lng':-73.7401, \n",
    "     'max_lat':40.6659}\n",
    "    elif airport_name=='EWR':\n",
    "        boundary={\n",
    "            'min_lng':-74.1925,\n",
    "            'min_lat':40.6700, \n",
    "            'max_lng':-74.1531, \n",
    "            'max_lat':40.7081\n",
    "\n",
    "        }\n",
    "    elif airport_name=='la guardia':\n",
    "        boundary={'min_lng':-73.8895, \n",
    "                  'min_lat':40.7664, \n",
    "                  'max_lng':-73.8550, \n",
    "                  'max_lat':40.7931\n",
    "                 }\n",
    "    if latitude>=boundary['min_lat'] and latitude<=boundary['max_lat']:\n",
    "        if longitude>=boundary['min_lng'] and longitude<=boundary['max_lng']:\n",
    "            return 1\n",
    "    else:\n",
    "        return 0\n",
    "        \n",
    "\n",
    "\n",
    "'''\n",
    "\n",
    "nyc_airports={'JFK':{'min_lng':-73.8352,\n",
    "     'min_lat':40.6195,\n",
    "     'max_lng':-73.7401, \n",
    "     'max_lat':40.6659},\n",
    "              \n",
    "    'EWR':{'min_lng':-74.1925,\n",
    "            'min_lat':40.6700, \n",
    "            'max_lng':-74.1531, \n",
    "            'max_lat':40.7081\n",
    "\n",
    "        },\n",
    "    'LaGuardia':{'min_lng':-73.8895, \n",
    "                  'min_lat':40.7664, \n",
    "                  'max_lng':-73.8550, \n",
    "                  'max_lat':40.7931\n",
    "        \n",
    "    }\n",
    "    \n",
    "}\n",
    "def isAirport(latitude,longitude,airport_name='JFK'):\n",
    "    \n",
    "    if latitude>=nyc_airports[airport_name]['min_lat'] and latitude<=nyc_airports[airport_name]['max_lat'] and longitude>=nyc_airports[airport_name]['min_lng'] and longitude<=nyc_airports[airport_name]['max_lng']:\n",
    "        return 1\n",
    "    else:\n",
    "        return 0\n",
    "        \n"
   ]
  },
  {
   "cell_type": "code",
   "execution_count": null,
   "metadata": {
    "_uuid": "ee5973d0fa3f0e85f73fa7a58893dcdbacf8b91e",
    "collapsed": true
   },
   "outputs": [],
   "source": [
    "train['is_pickup_JFK']=train.apply(lambda row:isAirport(row['pickup_latitude'],row['pickup_longitude'],'JFK'),axis=1)\n",
    "train['is_dropoff_JFK']=train.apply(lambda row:isAirport(row['dropoff_latitude'],row['dropoff_longitude'],'JFK'),axis=1)"
   ]
  },
  {
   "cell_type": "code",
   "execution_count": null,
   "metadata": {
    "_uuid": "ef012ea7dab72c9a40fe2f2b72dca7e65a90b048",
    "collapsed": true
   },
   "outputs": [],
   "source": [
    "train['is_pickup_EWR']=train.apply(lambda row:isAirport(row['pickup_latitude'],row['pickup_longitude'],'EWR'),axis=1)\n",
    "train['is_dropoff_EWR']=train.apply(lambda row:isAirport(row['dropoff_latitude'],row['dropoff_longitude'],'EWR'),axis=1)"
   ]
  },
  {
   "cell_type": "code",
   "execution_count": null,
   "metadata": {
    "_uuid": "c7b01ae39119553b3711b90e75bbab00e36ebd86",
    "collapsed": true
   },
   "outputs": [],
   "source": [
    "train['is_pickup_la_guardia']=train.apply(lambda row:isAirport(row['pickup_latitude'],row['pickup_longitude'],'LaGuardia'),axis=1)\n",
    "train['is_dropoff_la_guardia']=train.apply(lambda row:isAirport(row['dropoff_latitude'],row['dropoff_longitude'],'LaGuardia'),axis=1)"
   ]
  },
  {
   "cell_type": "markdown",
   "metadata": {
    "_uuid": "ee1b236413bca137b8442b7790542632c6f26c10"
   },
   "source": [
    "**Trip Distance**"
   ]
  },
  {
   "cell_type": "code",
   "execution_count": null,
   "metadata": {
    "_uuid": "783676cde5ce39c18b22ea543b94c9269d313c85",
    "collapsed": true
   },
   "outputs": [],
   "source": [
    "#calculate trip distance in miles\n",
    "def distance(lat1, lat2, lon1,lon2):\n",
    "    p = 0.017453292519943295 # Pi/180\n",
    "    a = 0.5 - np.cos((lat2 - lat1) * p)/2 + np.cos(lat1 * p) * np.cos(lat2 * p) * (1 - np.cos((lon2 - lon1) * p)) / 2\n",
    "    return 0.6213712 * 12742 * np.arcsin(np.sqrt(a))"
   ]
  },
  {
   "cell_type": "code",
   "execution_count": null,
   "metadata": {
    "_uuid": "d980d9db974ee3ecd83c31d443cf362e3ff40d61",
    "collapsed": true
   },
   "outputs": [],
   "source": [
    "train['trip_distance']=train.apply(lambda row:distance(row['pickup_latitude'],row['dropoff_latitude'],row['pickup_longitude'],row['dropoff_longitude']),axis=1)"
   ]
  },
  {
   "cell_type": "code",
   "execution_count": null,
   "metadata": {
    "_uuid": "14fb8e418eb801913f4d8fd8ed3555a93c57cc0d",
    "collapsed": true
   },
   "outputs": [],
   "source": [
    "sns.kdeplot(np.log(train['trip_distance'].values)).set_title(\"Distribution of Trip Distance (log scale)\")"
   ]
  },
  {
   "cell_type": "code",
   "execution_count": null,
   "metadata": {
    "_uuid": "6d4a51968e351a2f63f52b2521e74632806f0a53",
    "collapsed": true
   },
   "outputs": [],
   "source": [
    "plt.scatter(x=train['trip_distance'],y=train['fare_amount'])\n",
    "plt.xlabel(\"Trip Distance\")\n",
    "plt.ylabel(\"Fare Amount\")\n"
   ]
  },
  {
   "cell_type": "markdown",
   "metadata": {
    "_uuid": "5d86de88b08f5490a63f1607d945df014d43d617"
   },
   "source": [
    "The fare seems to be fixed for trip distances > 50 miles. Normally airports pickup or dropoff have fixed prices.\n",
    "We can remove the airport pickup and dropoff and plot the distribution of Fare Amount vs Trip distribution "
   ]
  },
  {
   "cell_type": "code",
   "execution_count": null,
   "metadata": {
    "_uuid": "7a993656c88c7fcf6f8b6d7a45b52400385510b4",
    "collapsed": true
   },
   "outputs": [],
   "source": [
    "non_airport=train.loc[(train['is_dropoff_JFK']==0) & (train['is_dropoff_EWR']==0) & (train['is_dropoff_la_guardia']==0)]\n",
    "non_airport=non_airport.loc[(non_airport['is_pickup_JFK']==0) & (non_airport['is_pickup_EWR']==0) & (non_airport['is_pickup_la_guardia']==0)]\n",
    "non_airport.shape"
   ]
  },
  {
   "cell_type": "code",
   "execution_count": null,
   "metadata": {
    "_uuid": "dd2cc43d04610a009f774cad1ec418271681d8d2",
    "collapsed": true
   },
   "outputs": [],
   "source": [
    "plt.scatter(x=non_airport['trip_distance'],y=non_airport['fare_amount'])\n",
    "plt.xlabel(\"Trip Distance\")\n",
    "plt.ylabel(\"Fare Amount\")\n",
    "plt.title(\"Trip Distance vs Fare Amount (excluding airport rides)\")"
   ]
  },
  {
   "cell_type": "markdown",
   "metadata": {
    "_uuid": "0109404e023e2049ec16d3da64c31b2f052731ee"
   },
   "source": [
    "In the plot above, we can see two clusters with linear realtionship between taxi fare and distance. But for trip distances >50miles, though a linear relationship exists,the fare amount is very low. Let us check where these trips originate and end"
   ]
  },
  {
   "cell_type": "code",
   "execution_count": null,
   "metadata": {
    "_uuid": "7db470c808784bc5afc2481309aa1be1e7aedb82",
    "collapsed": true
   },
   "outputs": [],
   "source": [
    "non_airport_long_trips=non_airport[non_airport['trip_distance']>=50]"
   ]
  },
  {
   "cell_type": "code",
   "execution_count": null,
   "metadata": {
    "_uuid": "b5dc516bd23f101c6a4b685380cb9405635c9962",
    "collapsed": true
   },
   "outputs": [],
   "source": [
    "drop_map = folium.Map(location = [40.730610,-73.935242],zoom_start = 12,)\n",
    "#print(pickup.shape)\n",
    "### For each pickup point add a circlemarker\n",
    "\n",
    "for index, row in non_airport_long_trips.iterrows():\n",
    "    \n",
    "    folium.CircleMarker([row['dropoff_latitude_round3'], row['dropoff_longitude_round3']],\n",
    "                        radius=3,\n",
    "                        \n",
    "                        color=\"#008000\", \n",
    "                        fill_opacity=0.9\n",
    "                       ).add_to(drop_map)\n",
    "for index, row in non_airport_long_trips.iterrows():\n",
    "    \n",
    "    folium.CircleMarker([row['pickup_latitude_round3'], row['pickup_longitude_round3']],\n",
    "                        radius=3,\n",
    "                        \n",
    "                        color=\"blue\", \n",
    "                        fill_opacity=0.9\n",
    "                       ).add_to(drop_map)\n",
    "\n",
    "'''\n",
    "hm_wide = HeatMap( list(zip(drop.dropoff_latitude_round3.values, drop.dropoff_longitude_round3.values, drop.Num_Trips.values)),\n",
    "                     min_opacity=0.2,\n",
    "                     radius=5, blur=15,\n",
    "                     max_zoom=1 \n",
    "                 )\n",
    "drop_map.add_child(hm_wide)\n",
    "\n",
    "'''\n",
    "\n",
    "drop_map"
   ]
  },
  {
   "cell_type": "markdown",
   "metadata": {
    "_uuid": "5e87f6348af019a4ed787ddab74eac05037d053a"
   },
   "source": [
    "Most of the long trips dropoffs and pickups are in lower Manhattan. There are a lot of dropoffs in Brooklyn"
   ]
  },
  {
   "cell_type": "markdown",
   "metadata": {
    "_uuid": "cb99455c0df55343dd866aeee4e0e28319b1742f"
   },
   "source": [
    "New York city is divided into 7 Boroughs. Let us calculate which borough pickup and dropoff points are. And whether that effects the fare"
   ]
  },
  {
   "cell_type": "code",
   "execution_count": null,
   "metadata": {
    "_uuid": "8cb2163300ad029a3f222fcdc3eee7b51465a0f4",
    "collapsed": true
   },
   "outputs": [],
   "source": [
    "nyc_boroughs={\n",
    "    'manhattan':{\n",
    "        'min_lng':-74.0479,\n",
    "        'min_lat':40.6829,\n",
    "        'max_lng':-73.9067,\n",
    "        'max_lat':40.8820\n",
    "    },\n",
    "    \n",
    "    'queens':{\n",
    "        'min_lng':-73.9630,\n",
    "        'min_lat':40.5431,\n",
    "        'max_lng':-73.7004,\n",
    "        'max_lat':40.8007\n",
    "\n",
    "    },\n",
    "\n",
    "    'brooklyn':{\n",
    "        'min_lng':-74.0421,\n",
    "        'min_lat':40.5707,\n",
    "        'max_lng':-73.8334,\n",
    "        'max_lat':40.7395\n",
    "\n",
    "    },\n",
    "\n",
    "    'bronx':{\n",
    "        'min_lng':-73.9339,\n",
    "        'min_lat':40.7855,\n",
    "        'max_lng':-73.7654,\n",
    "        'max_lat':40.9176\n",
    "\n",
    "    },\n",
    "\n",
    "    'staten_island':{\n",
    "        'min_lng':-74.2558,\n",
    "        'min_lat':40.4960,\n",
    "        'max_lng':-74.0522,\n",
    "        'max_lat':40.6490\n",
    "\n",
    "    }\n",
    "    \n",
    "    \n",
    "    \n",
    "}"
   ]
  },
  {
   "cell_type": "code",
   "execution_count": null,
   "metadata": {
    "_uuid": "47c337ab893721f8b11299ca968337480e3b7d91",
    "collapsed": true
   },
   "outputs": [],
   "source": [
    "def getBorough(lat,lng):\n",
    "    \n",
    "    locs=nyc_boroughs.keys()\n",
    "    for loc in locs:\n",
    "        if lat>=nyc_boroughs[loc]['min_lat'] and lat<=nyc_boroughs[loc]['max_lat'] and lng>=nyc_boroughs[loc]['min_lng'] and lng<=nyc_boroughs[loc]['max_lng']:\n",
    "            return loc\n",
    "    return 'others'\n",
    "\n",
    "        "
   ]
  },
  {
   "cell_type": "code",
   "execution_count": null,
   "metadata": {
    "_uuid": "1f17843beffbf412afc14896547e543d11819593",
    "collapsed": true
   },
   "outputs": [],
   "source": [
    "train['pickup_borough']=train.apply(lambda row:getBorough(row['pickup_latitude'],row['pickup_longitude']),axis=1)\n",
    "train['dropoff_borough']=train.apply(lambda row:getBorough(row['dropoff_latitude'],row['dropoff_longitude']),axis=1)\n"
   ]
  },
  {
   "cell_type": "code",
   "execution_count": null,
   "metadata": {
    "_uuid": "b104ff03ad29e43690a7c78b60a96420d890b5fe",
    "collapsed": true
   },
   "outputs": [],
   "source": [
    "\n",
    "train.to_csv(\"Training_FeatureEngineering.csv\",index=False)\n",
    "del train"
   ]
  },
  {
   "cell_type": "markdown",
   "metadata": {
    "_uuid": "b50b8dea0e71acbabff0225a64519c767bd8221c"
   },
   "source": [
    "### How does the tripfare vary across buroughs"
   ]
  },
  {
   "cell_type": "code",
   "execution_count": null,
   "metadata": {
    "_uuid": "2d600c07052327c21eb2a312603db0d0f6324eb2",
    "collapsed": true
   },
   "outputs": [],
   "source": [
    "train=pd.read_csv(\"Training_FeatureEngineering.csv\")\n",
    "plt.figure(figsize=(8,5))\n",
    "sns.countplot(y=train['pickup_borough'])\n",
    "plt.title(\"Distribution of Pickup Boroughs\")"
   ]
  },
  {
   "cell_type": "code",
   "execution_count": null,
   "metadata": {
    "_uuid": "9ea6606331f354b54c3bd3e205fb9961c72b75bb",
    "collapsed": true
   },
   "outputs": [],
   "source": [
    "\n",
    "\n",
    "plt.figure(figsize=(16,10))\n",
    "plt.title(\"Distribution of Fare Amount Across Buroughs\")\n",
    "i=1\n",
    "for key in nyc_boroughs.keys():\n",
    "    plt.subplot(3,2,i)\n",
    "    sns.kdeplot(np.log(train.loc[train['pickup_borough']==key,'fare_amount'].values),label='Pickup '+ key)\n",
    "    sns.kdeplot(np.log(train.loc[train['dropoff_borough']==key,'fare_amount'].values),label='Dropoff'+ key).set_title(\"Fare Amount (log scale) for \"+key)\n",
    "    \n",
    "    i=i+1\n"
   ]
  },
  {
   "cell_type": "markdown",
   "metadata": {
    "_uuid": "fe511cd51b5b482bfa55fe83184bd46493e9e0c6"
   },
   "source": [
    "There is a significant difference in pickups and dropoffs fare amount for each burough exceept Manhattan. We can see pickups from Queens is expensive compared to pickups from other Buroughs.Very high difference in pickup and dropoff prices for Staten Island."
   ]
  },
  {
   "cell_type": "code",
   "execution_count": null,
   "metadata": {
    "_uuid": "f674e94c5a0315e26a172dfc8d5fc0178b7b0588",
    "collapsed": true
   },
   "outputs": [],
   "source": [
    "plt.figure(figsize=(24,15))\n",
    "plt.title(\"Distribution of Trip Distances Across Buroughs\")\n",
    "i=1\n",
    "for key in nyc_boroughs.keys():\n",
    "    plt.subplot(3,2,i)\n",
    "    sns.kdeplot(np.log(train.loc[train['pickup_borough']==key,'trip_distance'].values),label='Pickup '+ key)\n",
    "    sns.kdeplot(np.log(train.loc[train['dropoff_borough']==key,'trip_distance'].values),label='Dropoff'+ key).set_title(\"Trip Distance (log scale) for \"+key)\n",
    "    i=i+1"
   ]
  },
  {
   "cell_type": "markdown",
   "metadata": {
    "_uuid": "b1e07c3c654d166c226c00cd0de95fba8fbab53b"
   },
   "source": [
    "Dropoffs to Bronx and Staten island are long trips. In Manhattan the pickup and dropoffs fare amount has similar distribution. Let us add a field, is_lower_manhattan as we had seen above that dropoffs to lower manhattan had higher trip distance but lower fare"
   ]
  },
  {
   "cell_type": "code",
   "execution_count": null,
   "metadata": {
    "_uuid": "6a14c4f0fbef9e854fb7ef127c631a334816453a",
    "collapsed": true
   },
   "outputs": [],
   "source": [
    "\n",
    "lower_manhattan_boundary={'min_lng': -74.0194,\n",
    "                          'min_lat':40.6997,\n",
    "                          'max_lng':-73.9716,\n",
    "                          'max_lat':40.7427}\n",
    "\n",
    "def isLowerManhattan(lat,lng):\n",
    "    if lat>=lower_manhattan_boundary['min_lat'] and lat<=lower_manhattan_boundary['max_lat'] and lng>=lower_manhattan_boundary['min_lng'] and lng<=lower_manhattan_boundary['max_lng']:\n",
    "        return 1\n",
    "    else:\n",
    "        return 0\n",
    "    "
   ]
  },
  {
   "cell_type": "code",
   "execution_count": null,
   "metadata": {
    "_uuid": "8da666cd1194da01c1bc6d86fae1ca28886031d4",
    "collapsed": true
   },
   "outputs": [],
   "source": [
    "train['is_pickup_lower_manhattan']=train.apply(lambda row:isLowerManhattan(row['pickup_latitude'],row['pickup_longitude']),axis=1)\n",
    "train['is_dropoff_lower_manhattan']=train.apply(lambda row:isLowerManhattan(row['dropoff_latitude'],row['dropoff_longitude']),axis=1)"
   ]
  },
  {
   "cell_type": "markdown",
   "metadata": {
    "_uuid": "3bf49c1866f920c9a5e9f760170cf13d676137a8"
   },
   "source": [
    "**How does Fare Amount differ for pickups and dropoff for Lower Manhattan compared to rest of Manhattan**"
   ]
  },
  {
   "cell_type": "code",
   "execution_count": null,
   "metadata": {
    "_uuid": "f687dfc08c8f119d23c30ac04305688aef6c906e",
    "collapsed": true
   },
   "outputs": [],
   "source": [
    "manhattan=train.loc[(train['pickup_borough']=='manhattan') | (train['dropoff_borough']=='manhattan')]\n",
    "manhattan.shape"
   ]
  },
  {
   "cell_type": "code",
   "execution_count": null,
   "metadata": {
    "_uuid": "8aea0bc7667b0ed01386b84109ddb67e9e6d2941",
    "collapsed": true
   },
   "outputs": [],
   "source": [
    "plt.figure(figsize=(8,5))\n",
    "sns.kdeplot(np.log(manhattan.loc[manhattan['is_pickup_lower_manhattan']==1,'fare_amount'].values),label='Lower Manhattan Pickups')\n",
    "sns.kdeplot(np.log(manhattan.loc[manhattan['is_pickup_lower_manhattan']==0,'fare_amount'].values),label='Rest of Manhattan Pickups')\n",
    "plt.xlabel(\"fare amount (log)\")\n",
    "plt.title(\"Distribution of Fare Amount - Manhattan vs Lower Manhattan\")"
   ]
  },
  {
   "cell_type": "code",
   "execution_count": null,
   "metadata": {
    "_uuid": "427068eb1e1d7dd0b1a06bd6621bfa55d842de96",
    "collapsed": true
   },
   "outputs": [],
   "source": [
    "plt.figure(figsize=(8,5))\n",
    "sns.kdeplot(np.log(manhattan.loc[manhattan['is_dropoff_lower_manhattan']==1,'fare_amount'].values),label='Lower Manhattan Dropoffs')\n",
    "sns.kdeplot(np.log(manhattan.loc[manhattan['is_dropoff_lower_manhattan']==0,'fare_amount'].values),label='Rest of Manhattan Dropoffs')\n",
    "plt.xlabel(\"fare amount (log)\")\n",
    "plt.title(\"Distribution of Fare Amount - Manhattan vs Lower Manhattan\")"
   ]
  },
  {
   "cell_type": "code",
   "execution_count": null,
   "metadata": {
    "_uuid": "39b15afbf2ae67ac1bc4162fcef586ecf3ac576f",
    "collapsed": true
   },
   "outputs": [],
   "source": [
    "plt.scatter(x=manhattan.loc[manhattan['is_pickup_lower_manhattan']==1,'trip_distance'].values,y=manhattan.loc[manhattan['is_pickup_lower_manhattan']==1,'fare_amount'].values)\n",
    "plt.xlabel(\"Trip Distance\")\n",
    "plt.ylabel(\"Fare Amount\")\n",
    "plt.title(\"Trip Distance vs Fare Amount (Lower Manhattan pickups)\")"
   ]
  },
  {
   "cell_type": "code",
   "execution_count": null,
   "metadata": {
    "_uuid": "3f160ba7905a385c7a3c01824ee84a48d8aeb380",
    "collapsed": true
   },
   "outputs": [],
   "source": [
    "plt.scatter(x=manhattan.loc[manhattan['is_pickup_lower_manhattan']==0,'trip_distance'].values,y=manhattan.loc[manhattan['is_pickup_lower_manhattan']==0,'fare_amount'].values)\n",
    "plt.xlabel(\"Trip Distance\")\n",
    "plt.ylabel(\"Fare Amount\")\n",
    "plt.title(\"Trip Distance vs Fare Amount (Rest of Manhattan pickups)\")"
   ]
  },
  {
   "cell_type": "code",
   "execution_count": null,
   "metadata": {
    "_uuid": "34f1be8bb977f34b874029a0c28c5f45545cff9a",
    "collapsed": true
   },
   "outputs": [],
   "source": [
    "plt.scatter(x=manhattan.loc[manhattan['is_dropoff_lower_manhattan']==1,'trip_distance'].values,y=manhattan.loc[manhattan['is_dropoff_lower_manhattan']==1,'fare_amount'].values)\n",
    "plt.xlabel(\"Trip Distance\")\n",
    "plt.ylabel(\"Fare Amount\")\n",
    "plt.title(\"Trip Distance vs Fare Amount (Lower Manhattan dropoffs)\")"
   ]
  },
  {
   "cell_type": "code",
   "execution_count": null,
   "metadata": {
    "_uuid": "215657288003bdba215f52b11cd1f0245246b030",
    "collapsed": true
   },
   "outputs": [],
   "source": [
    "plt.scatter(x=manhattan.loc[manhattan['is_dropoff_lower_manhattan']==0,'trip_distance'].values,y=manhattan.loc[manhattan['is_dropoff_lower_manhattan']==0,'fare_amount'].values)\n",
    "plt.xlabel(\"Trip Distance\")\n",
    "plt.ylabel(\"Fare Amount\")\n",
    "plt.title(\"Trip Distance vs Fare Amount (Rest of Manhattan dropoffs)\")\n",
    "\n",
    "del manhattan\n",
    "del non_airport_long_trips\n",
    "del non_airport"
   ]
  },
  {
   "cell_type": "markdown",
   "metadata": {
    "_uuid": "4d61006d912a8450f5e568c11a4ae2a1ba5ed01b"
   },
   "source": [
    "The distribution of trip distance and fare amount for Lower Manhattan pickups and dropoffs is very different. Also, slope of linear realtionship for pickups for Lower Manhattan is higher than that for Rest of Manhattan"
   ]
  },
  {
   "cell_type": "markdown",
   "metadata": {
    "_uuid": "3dfa849ab2b840b4d9581723e29e26557a20a05d"
   },
   "source": [
    "### Let us now look at datetime features and their realtionship with Fare Amount\n",
    "**What is the time period  in out sample**"
   ]
  },
  {
   "cell_type": "code",
   "execution_count": null,
   "metadata": {
    "_uuid": "4056994051175fcaca557258127a51bd1bb20892",
    "collapsed": true
   },
   "outputs": [],
   "source": [
    "trips_year=train.groupby(['pickup_year'])['key'].count().reset_index().rename(columns={'key':'Num_Trips'})\n",
    "trips_year.head()\n",
    "sns.barplot(x='pickup_year',y='Num_Trips',data=trips_year)"
   ]
  },
  {
   "cell_type": "code",
   "execution_count": null,
   "metadata": {
    "_uuid": "7d759caa556b527da4196cc6a433569bc3a77b62",
    "collapsed": true
   },
   "outputs": [],
   "source": [
    "trips_year_fareamount=train.groupby(['pickup_year'])['fare_amount'].mean().reset_index().rename(columns={'fare_amount':'avg_fare_amount'})"
   ]
  },
  {
   "cell_type": "code",
   "execution_count": null,
   "metadata": {
    "_uuid": "5a00352671e1c751e926ceb8e3dc42edd7bfb58c",
    "collapsed": true
   },
   "outputs": [],
   "source": [
    "sns.barplot(x='pickup_year',y='avg_fare_amount',data=trips_year_fareamount).set_title(\"Avg Fare Amount over Years\")"
   ]
  },
  {
   "cell_type": "markdown",
   "metadata": {
    "_uuid": "c851b55bbf5031dec2a5e9a69a325fbc0fb5b524"
   },
   "source": [
    "Avg Fare amount has beern increasing over the years."
   ]
  },
  {
   "cell_type": "code",
   "execution_count": null,
   "metadata": {
    "_uuid": "a27285890fa760c4e4405a7bd157144c0fb08d4d",
    "collapsed": true
   },
   "outputs": [],
   "source": [
    "def groupandplot(data,groupby_key,value,aggregate='mean'):\n",
    "    plt.figure(figsize=(16,10))\n",
    "    agg_data=data.groupby([groupby_key])[value].agg(aggregate).reset_index().rename(columns={value:aggregate+'_'+value})\n",
    "    plt.subplot(1,2,1)\n",
    "    count_data=train.groupby([groupby_key])['key'].count().reset_index().rename(columns={'key':'Num_Trips'})\n",
    "    sns.barplot(x=groupby_key,y='Num_Trips',data=count_data).set_title(\"Number of Trips vs \"+groupby_key)\n",
    "    \n",
    "    plt.subplot(1,2,2)\n",
    "    sns.barplot(x=groupby_key,y=aggregate+'_'+value,data=agg_data).set_title(aggregate+'_'+value+\" vs \"+groupby_key)\n",
    "\n",
    "    "
   ]
  },
  {
   "cell_type": "code",
   "execution_count": null,
   "metadata": {
    "_uuid": "f98b47e9bafb35b7e30d85461b2ff413a1f321ab",
    "collapsed": true
   },
   "outputs": [],
   "source": [
    "groupandplot(train,'pickup_month','fare_amount')"
   ]
  },
  {
   "cell_type": "markdown",
   "metadata": {
    "_uuid": "f3227dc003505cdb1f046887ba25135873daad9c"
   },
   "source": [
    "Fares across months are fairly constant, though number of trips are lower from june to decemeber"
   ]
  },
  {
   "cell_type": "code",
   "execution_count": null,
   "metadata": {
    "_uuid": "831bdfc81813491d68e3ab4da0da4b487efe0ee5",
    "collapsed": true
   },
   "outputs": [],
   "source": [
    "groupandplot(train,'pickup_day_of_week','fare_amount')"
   ]
  },
  {
   "cell_type": "markdown",
   "metadata": {
    "_uuid": "981cdce1148a9a8cd3599481301b48fe8faa3b7b"
   },
   "source": [
    "Saturday has low avg fare amount, compared to other days though there are a lot of trips of saturday. On sunday and monday though the number of trips are lower, avg fare amount is higher"
   ]
  },
  {
   "cell_type": "code",
   "execution_count": null,
   "metadata": {
    "_uuid": "2a19d5a1171d10510e9e4d5c8626de00f0d343d1",
    "collapsed": true
   },
   "outputs": [],
   "source": [
    "groupandplot(train,'pickup_hour','fare_amount')"
   ]
  },
  {
   "cell_type": "markdown",
   "metadata": {
    "_uuid": "8929cdd48af80ee93dfce2e0b26b6ea7735b7ab1"
   },
   "source": [
    "The avg fare amount at 5am is the higher while the number of trips at 5 am are the least. The number of trips are highest in 18 and 19 hours"
   ]
  },
  {
   "cell_type": "code",
   "execution_count": null,
   "metadata": {
    "_uuid": "69f414f735628d3bdf8335e4ae96c1f314f613e8",
    "collapsed": true
   },
   "outputs": [],
   "source": [
    "# Let us encode day of the week to numbers\n",
    "def encodeDays(day_of_week):\n",
    "    day_dict={'Sunday':0,'Monday':1,'Tuesday':2,'Wednesday':3,'Thursday':4,'Friday':5,'Saturday':6}\n",
    "    return day_dict[day_of_week]"
   ]
  },
  {
   "cell_type": "code",
   "execution_count": null,
   "metadata": {
    "_uuid": "b1c0187b52c8cd703ed9fe4cac90bd3fcab0d60b",
    "collapsed": true
   },
   "outputs": [],
   "source": [
    "train['pickup_day_of_week']=train['pickup_day_of_week'].apply(lambda x:encodeDays(x))"
   ]
  },
  {
   "cell_type": "markdown",
   "metadata": {
    "_uuid": "a20cdd567775fdf2e2aa354de24f954273702d6a"
   },
   "source": [
    "### How does Number of passengers affect Fare time\n"
   ]
  },
  {
   "cell_type": "code",
   "execution_count": null,
   "metadata": {
    "_uuid": "ad72aa76b1ddde6e3d0d6d199819ae21beaf40cc",
    "collapsed": true
   },
   "outputs": [],
   "source": [
    "\n",
    "groupandplot(train,'passenger_count','fare_amount')"
   ]
  },
  {
   "cell_type": "markdown",
   "metadata": {
    "_uuid": "5a4c6a559e27ad94565179fccee2d09235b53341"
   },
   "source": [
    "1. There are trips with 0 passengers as well. In these cases are drop and pickup location the same? If so it would mean that passenger didnt take the cab after the cab arrived and a cancellation fee was charged - there were 20719 such records. In the test set there were 38 such records\n",
    "2. The fare is very high when there were 9 passengers. - only 2 records\n",
    "3.  the number 129 and 208 passengers are surely outliers - three such records\n",
    "4. There are no records in test data where number of passengers is greater than 8 - so we will remove from train data records where number of passengers >8"
   ]
  },
  {
   "cell_type": "code",
   "execution_count": null,
   "metadata": {
    "_uuid": "7bb8b880dd9d84895c1ca34bba8231eb77ec0eaf",
    "collapsed": true
   },
   "outputs": [],
   "source": [
    "print(\"Avg trip distance (in miles) when there are zero passengers\",np.mean(train.loc[train['passenger_count']==0,'trip_distance'].values))"
   ]
  },
  {
   "cell_type": "code",
   "execution_count": null,
   "metadata": {
    "_uuid": "4cd8cf54895488f16177a3efe8cb5f6874d9b4a1",
    "collapsed": true
   },
   "outputs": [],
   "source": [
    "train=train[train['passenger_count']<=8]"
   ]
  },
  {
   "cell_type": "code",
   "execution_count": null,
   "metadata": {
    "_uuid": "6abc5c373f784c0a92c142ddf337b731d7c073d6",
    "collapsed": true
   },
   "outputs": [],
   "source": [
    "groupandplot(train,'passenger_count','fare_amount')\n"
   ]
  },
  {
   "cell_type": "markdown",
   "metadata": {
    "_uuid": "8981344da83ad3bb0ff67cbd69a722bfccf69e3f"
   },
   "source": [
    " if there are 7 passengers, fare amount is lower. Fare amount is higher for 6 passengers**"
   ]
  },
  {
   "cell_type": "code",
   "execution_count": null,
   "metadata": {
    "_uuid": "8572b9781b0db3c046df30ba415da20e2451ad3b",
    "collapsed": true
   },
   "outputs": [],
   "source": [
    "train.to_csv(\"train_cleaned.csv\",index=False)"
   ]
  },
  {
   "cell_type": "code",
   "execution_count": null,
   "metadata": {
    "_uuid": "3d5fb44e25784466a99587724a815962bcc99ebb",
    "collapsed": true
   },
   "outputs": [],
   "source": [
    "\n",
    "\n",
    "test =  pd.read_csv('../input/test.csv')\n",
    "test['pickup_datetime']=pd.to_datetime(test['pickup_datetime'],format='%Y-%m-%d %H:%M:%S UTC')\n",
    "\n",
    "test['pickup_date']= test['pickup_datetime'].dt.date\n",
    "test['pickup_day']=test['pickup_datetime'].apply(lambda x:x.day)\n",
    "test['pickup_hour']=test['pickup_datetime'].apply(lambda x:x.hour)\n",
    "test['pickup_day_of_week']=test['pickup_datetime'].apply(lambda x:calendar.day_name[x.weekday()])\n",
    "test['pickup_month']=test['pickup_datetime'].apply(lambda x:x.month)\n",
    "test['pickup_year']=test['pickup_datetime'].apply(lambda x:x.year)\n",
    "test['is_pickup_JFK']=test.apply(lambda row:isAirport(row['pickup_latitude'],row['pickup_longitude'],'JFK'),axis=1)\n",
    "test['is_dropoff_JFK']=test.apply(lambda row:isAirport(row['dropoff_latitude'],row['dropoff_longitude'],'JFK'),axis=1)\n",
    "test['is_pickup_EWR']=test.apply(lambda row:isAirport(row['pickup_latitude'],row['pickup_longitude'],'EWR'),axis=1)\n",
    "test['is_dropoff_EWR']=test.apply(lambda row:isAirport(row['dropoff_latitude'],row['dropoff_longitude'],'EWR'),axis=1)\n",
    "test['is_pickup_la_guardia']=test.apply(lambda row:isAirport(row['pickup_latitude'],row['pickup_longitude'],'LaGuardia'),axis=1)\n",
    "test['is_dropoff_la_guardia']=test.apply(lambda row:isAirport(row['dropoff_latitude'],row['dropoff_longitude'],'LaGuardia'),axis=1)\n",
    "test['pickup_latitude_round3']=test['pickup_latitude'].apply(lambda x:round(x,3))\n",
    "test['pickup_longitude_round3']=test['pickup_longitude'].apply(lambda x:round(x,3))\n",
    "test['dropoff_latitude_round3']=test['dropoff_latitude'].apply(lambda x:round(x,3))\n",
    "test['dropoff_longitude_round3']=test['dropoff_longitude'].apply(lambda x:round(x,3))\n",
    "test['trip_distance']=test.apply(lambda row:distance(row['pickup_latitude'],row['dropoff_latitude'],row['pickup_longitude'],row['dropoff_longitude']),axis=1)\n",
    "test['pickup_borough']=test.apply(lambda row:getBorough(row['pickup_latitude'],row['pickup_longitude']),axis=1)\n",
    "test['dropoff_borough']=test.apply(lambda row:getBorough(row['dropoff_latitude'],row['dropoff_longitude']),axis=1)\n",
    "test['is_pickup_lower_manhattan']=test.apply(lambda row:isLowerManhattan(row['pickup_latitude'],row['pickup_longitude']),axis=1)\n",
    "test['is_dropoff_lower_manhattan']=test.apply(lambda row:isLowerManhattan(row['dropoff_latitude'],row['dropoff_longitude']),axis=1)\n",
    "test['pickup_day_of_week']=test['pickup_day_of_week'].apply(lambda x:encodeDays(x))\n",
    "print(\"Shape of test data\", test.shape)\n",
    "\n",
    "test.to_csv(\"test_cleaned.csv\",index=False)"
   ]
  },
  {
   "cell_type": "code",
   "execution_count": null,
   "metadata": {
    "_uuid": "00251ef1826bf74523b0f127ce85f6be29997d11",
    "collapsed": true
   },
   "outputs": [],
   "source": []
  }
 ],
 "metadata": {
  "kernelspec": {
   "display_name": "Python 3",
   "language": "python",
   "name": "python3"
  },
  "language_info": {
   "codemirror_mode": {
    "name": "ipython",
    "version": 3
   },
   "file_extension": ".py",
   "mimetype": "text/x-python",
   "name": "python",
   "nbconvert_exporter": "python",
   "pygments_lexer": "ipython3",
   "version": "3.6.1"
  }
 },
 "nbformat": 4,
 "nbformat_minor": 1
}
